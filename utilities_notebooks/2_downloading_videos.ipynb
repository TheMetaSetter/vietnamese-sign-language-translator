{
 "cells": [
  {
   "cell_type": "markdown",
   "metadata": {},
   "source": [
    "# Tải khoảng 400 từ website [QIPEDC](https://qipedc.moet.gov.vn/dictionary)"
   ]
  },
  {
   "cell_type": "code",
   "execution_count": 53,
   "metadata": {},
   "outputs": [],
   "source": [
    "import pandas as pd"
   ]
  },
  {
   "cell_type": "code",
   "execution_count": 54,
   "metadata": {},
   "outputs": [
    {
     "data": {
      "text/html": [
       "<div>\n",
       "<style scoped>\n",
       "    .dataframe tbody tr th:only-of-type {\n",
       "        vertical-align: middle;\n",
       "    }\n",
       "\n",
       "    .dataframe tbody tr th {\n",
       "        vertical-align: top;\n",
       "    }\n",
       "\n",
       "    .dataframe thead th {\n",
       "        text-align: right;\n",
       "    }\n",
       "</style>\n",
       "<table border=\"1\" class=\"dataframe\">\n",
       "  <thead>\n",
       "    <tr style=\"text-align: right;\">\n",
       "      <th></th>\n",
       "      <th>Text</th>\n",
       "      <th>Video URL</th>\n",
       "      <th>Region</th>\n",
       "      <th>Label</th>\n",
       "    </tr>\n",
       "  </thead>\n",
       "  <tbody>\n",
       "    <tr>\n",
       "      <th>0</th>\n",
       "      <td>đánh răng</td>\n",
       "      <td>https://qipedc.moet.gov.vn/videos/D0414.mp4?au...</td>\n",
       "      <td>NaN</td>\n",
       "      <td>đánh_răng</td>\n",
       "    </tr>\n",
       "    <tr>\n",
       "      <th>1</th>\n",
       "      <td>ảo thuật</td>\n",
       "      <td>https://qipedc.moet.gov.vn/videos/W00027.mp4?a...</td>\n",
       "      <td>NaN</td>\n",
       "      <td>ảo_thuật</td>\n",
       "    </tr>\n",
       "    <tr>\n",
       "      <th>2</th>\n",
       "      <td>đèn điện</td>\n",
       "      <td>https://qipedc.moet.gov.vn/videos/W01155T.mp4?...</td>\n",
       "      <td>T</td>\n",
       "      <td>đèn_điệnT</td>\n",
       "    </tr>\n",
       "    <tr>\n",
       "      <th>3</th>\n",
       "      <td>xuất hiện</td>\n",
       "      <td>https://qipedc.moet.gov.vn/videos/W04010B.mp4?...</td>\n",
       "      <td>B</td>\n",
       "      <td>xuất_hiệnB</td>\n",
       "    </tr>\n",
       "    <tr>\n",
       "      <th>4</th>\n",
       "      <td>nghỉ hè</td>\n",
       "      <td>https://qipedc.moet.gov.vn/videos/W02360T.mp4?...</td>\n",
       "      <td>T</td>\n",
       "      <td>nghỉ_hèT</td>\n",
       "    </tr>\n",
       "  </tbody>\n",
       "</table>\n",
       "</div>"
      ],
      "text/plain": [
       "        Text                                          Video URL Region  \\\n",
       "0  đánh răng  https://qipedc.moet.gov.vn/videos/D0414.mp4?au...    NaN   \n",
       "1   ảo thuật  https://qipedc.moet.gov.vn/videos/W00027.mp4?a...    NaN   \n",
       "2   đèn điện  https://qipedc.moet.gov.vn/videos/W01155T.mp4?...      T   \n",
       "3  xuất hiện  https://qipedc.moet.gov.vn/videos/W04010B.mp4?...      B   \n",
       "4    nghỉ hè  https://qipedc.moet.gov.vn/videos/W02360T.mp4?...      T   \n",
       "\n",
       "        Label  \n",
       "0   đánh_răng  \n",
       "1    ảo_thuật  \n",
       "2   đèn_điệnT  \n",
       "3  xuất_hiệnB  \n",
       "4    nghỉ_hèT  "
      ]
     },
     "execution_count": 54,
     "metadata": {},
     "output_type": "execute_result"
    }
   ],
   "source": [
    "csv_file_path = '../data/raw/text_video_data.csv'\n",
    "df = pd.read_csv(csv_file_path)\n",
    "df.head(5)"
   ]
  },
  {
   "cell_type": "markdown",
   "metadata": {},
   "source": [
    "## Xử lý dữ liệu trước khi tải"
   ]
  },
  {
   "cell_type": "code",
   "execution_count": 55,
   "metadata": {},
   "outputs": [],
   "source": [
    "# Đối với cột 'Text' và cột 'Label', thay dấu '/' bằng dấu '-'\n",
    "df['Text'] = df['Text'].str.replace('/', '-')\n",
    "df['Label'] = df['Label'].str.replace('/', '-')\n",
    "\n",
    "# Lưu dữ liệu đã xử lý vào file csv mới\n",
    "df.to_csv('../data/processed/text_video_data.csv', index=False)"
   ]
  },
  {
   "cell_type": "markdown",
   "metadata": {},
   "source": [
    "## Quá trình tải"
   ]
  },
  {
   "cell_type": "code",
   "execution_count": null,
   "metadata": {},
   "outputs": [],
   "source": [
    "# Chọn ra ngẫu nhiên 400 dòng\n",
    "df = df.sample(n=400, random_state=1)\n",
    "\n",
    "# Lưu vào file mới đặt là file thử nghiệm\n",
    "df.to_csv('../data/processed/text_video_data_sample.csv', index=False)\n",
    "\n",
    "# Tải tất cả video từ file thử nghiệm này về thư mục data/raw/videos bằng urllib\n",
    "import urllib.request\n",
    "import os\n",
    "\n",
    "# Tạo thư mục nếu chưa tồn tại\n",
    "os.makedirs('../data/raw/videos', exist_ok=True)\n",
    "\n",
    "for _, row in df.iterrows():\n",
    "    video_url = row['Video URL']\n",
    "    video_label = row['Label']\n",
    "    \n",
    "    video_file_path = f'../data/raw/videos/{video_label}.mp4'\n",
    "    \n",
    "    # Tải video về\n",
    "    urllib.request.urlretrieve(video_url, video_file_path)\n",
    "    print(f'Downloaded {video_label} to {video_file_path}')\n",
    "    \n",
    "print('Done')"
   ]
  },
  {
   "cell_type": "markdown",
   "metadata": {},
   "source": [
    "Sau khi đã tải "
   ]
  }
 ],
 "metadata": {
  "kernelspec": {
   "display_name": "aio_signlanguage-env",
   "language": "python",
   "name": "python3"
  },
  "language_info": {
   "codemirror_mode": {
    "name": "ipython",
    "version": 3
   },
   "file_extension": ".py",
   "mimetype": "text/x-python",
   "name": "python",
   "nbconvert_exporter": "python",
   "pygments_lexer": "ipython3",
   "version": "3.9.21"
  }
 },
 "nbformat": 4,
 "nbformat_minor": 2
}
