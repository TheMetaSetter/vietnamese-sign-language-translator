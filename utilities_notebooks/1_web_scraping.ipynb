{
 "cells": [
  {
   "cell_type": "markdown",
   "metadata": {},
   "source": [
    "# Cào website [QIPEDC](https://qipedc.moet.gov.vn/dictionary)"
   ]
  },
  {
   "cell_type": "code",
   "execution_count": 9,
   "metadata": {},
   "outputs": [],
   "source": [
    "# import asyncio\n",
    "# from requests_html import AsyncHTMLSession\n",
    "# import bs4\n",
    "\n",
    "# async def fetch_content(url):\n",
    "#     asession = AsyncHTMLSession()\n",
    "#     response = await asession.get(url)\n",
    "#     await response.html.arender()\n",
    "#     return response.html.html\n",
    "\n",
    "# url = 'https://qipedc.moet.gov.vn/dictionary'\n",
    "\n",
    "# try:\n",
    "#     # Check if there's an existing event loop\n",
    "#     loop = asyncio.get_running_loop()\n",
    "#     # If we're in an interactive environment like Jupyter, use 'await'\n",
    "#     content = await fetch_content(url)\n",
    "# except RuntimeError:\n",
    "#     # If no event loop is running, create a new one\n",
    "#     content = asyncio.run(fetch_content(url))\n",
    "\n",
    "# # Now you can parse 'content' with BeautifulSoup or another parser\n",
    "# soup = bs4.BeautifulSoup(content, 'html.parser')"
   ]
  },
  {
   "cell_type": "code",
   "execution_count": 10,
   "metadata": {},
   "outputs": [],
   "source": [
    "# print(soup.prettify())"
   ]
  },
  {
   "cell_type": "code",
   "execution_count": 11,
   "metadata": {},
   "outputs": [],
   "source": [
    "# # Find all button elements having class containing 'btn' 'mx-1' 'btn-sm'\n",
    "# import re\n",
    "# buttons = soup.find_all('button', class_=re.compile(r'\\bbtn\\b.*\\bmx-1\\b.*\\bbtn-sm\\b'))\n",
    "# buttons\n",
    "\n",
    "# # Find the index of the button with class having 'btn-info' in buttons\n",
    "# for i, button in enumerate(buttons):\n",
    "#     if 'btn-info' in button['class']:\n",
    "#         break\n",
    "# to_click_button = buttons[i+1]\n",
    "# to_click_button"
   ]
  },
  {
   "cell_type": "code",
   "execution_count": 12,
   "metadata": {},
   "outputs": [],
   "source": [
    "# # Get all the paragraphs with class 't-a-center f-s-18 f-f-Lato-Black mb-0'\n",
    "# list_text = [p.text for p in soup.find_all('p', class_='t-a-center f-s-18 f-f-Lato-Black mb-0')]"
   ]
  },
  {
   "cell_type": "code",
   "execution_count": 13,
   "metadata": {},
   "outputs": [],
   "source": [
    "# # Get all the src attributes of img tags having class m-w-100\n",
    "# images = [img['src'] for img in soup.find_all('img', class_='m-w-100')][1:]"
   ]
  },
  {
   "cell_type": "code",
   "execution_count": 14,
   "metadata": {},
   "outputs": [],
   "source": [
    "# def get_vid_link_from_img_link(img_link):\n",
    "#     return img_link.replace(\"thumbs\", \"videos\").replace(\".png\", \".mp4?autoplay=true\")\n",
    "\n",
    "# videos = [get_vid_link_from_img_link(img) for img in images]\n",
    "# videos"
   ]
  },
  {
   "cell_type": "code",
   "execution_count": 15,
   "metadata": {},
   "outputs": [],
   "source": [
    "# # Zip the list_text and videos lists together\n",
    "# text_video = list(zip(list_text, videos))\n",
    "# text_video[:5]"
   ]
  },
  {
   "cell_type": "code",
   "execution_count": 1,
   "metadata": {},
   "outputs": [
    {
     "name": "stdout",
     "output_type": "stream",
     "text": [
      "Không còn trang nào để tiếp tục.\n",
      "[('địa chỉ', '/videos/D0001B.mp4?autoplay=true'), ('địa chỉ', '/videos/D0001N.mp4?autoplay=true'), ('địa chỉ', '/videos/D0001T.mp4?autoplay=true'), ('tỉnh', '/videos/D0002.mp4?autoplay=true'), ('tiếp tân', '/videos/D0003.mp4?autoplay=true')]\n"
     ]
    }
   ],
   "source": [
    "# Trang web để tìm phiên bản chromedriver:\n",
    "# https://googlechromelabs.github.io/chrome-for-testing/\n",
    "\n",
    "from selenium import webdriver\n",
    "from selenium.webdriver.chrome.service import Service\n",
    "from selenium.webdriver.common.by import By\n",
    "from selenium.webdriver.support.ui import WebDriverWait\n",
    "from selenium.webdriver.support import expected_conditions as EC\n",
    "from bs4 import BeautifulSoup\n",
    "import time\n",
    "\n",
    "# Thiết lập đường dẫn đến ChromeDriver\n",
    "chrome_driver_path = '/opt/homebrew/bin/chromedriver'\n",
    "\n",
    "# Cấu hình các tùy chọn cho Chrome\n",
    "options = webdriver.ChromeOptions()\n",
    "options.add_argument('--headless')  # Chế độ không giao diện\n",
    "options.add_argument('--disable-gpu')  # Tắt tăng tốc GPU để đảm bảo tương thích\n",
    "options.add_argument('--no-sandbox')  # Chạy không cần sandbox (chỉ cần cho một số hệ thống nhất định)\n",
    "\n",
    "# Tạo đối tượng Service với đường dẫn đến ChromeDriver\n",
    "service = Service(executable_path=chrome_driver_path)\n",
    "\n",
    "# Khởi tạo WebDriver với Service và Options\n",
    "driver = webdriver.Chrome(service=service, options=options)\n",
    "\n",
    "# Điều hướng đến trang web mục tiêu\n",
    "# Đây là URL của trang mà chúng ta muốn thu thập dữ liệu.\n",
    "url = 'https://qipedc.moet.gov.vn/dictionary'\n",
    "driver.get(url)\n",
    "\n",
    "# Khởi tạo một đối tượng WebDriverWait\n",
    "# Giúp chờ các thành phần trên trang tải xong trước khi thực hiện các hành động tiếp theo.\n",
    "wait = WebDriverWait(driver, 10)\n",
    "\n",
    "# Danh sách để lưu trữ toàn bộ dữ liệu đã thu thập (text + video)\n",
    "all_text_video = []\n",
    "\n",
    "try:\n",
    "    while True:\n",
    "        # Đợi một khoảng thời gian để đảm bảo trang đã tải đầy đủ nội dung.\n",
    "        # Thời gian này có thể tùy chỉnh dựa trên tốc độ tải của trang web.\n",
    "        time.sleep(2)  # Đợi 2 giây trước khi xử lý nội dung\n",
    "\n",
    "        # Sử dụng BeautifulSoup để phân tích nội dung trang hiện tại\n",
    "        # Lấy mã HTML của trang web từ WebDriver và xử lý với BeautifulSoup.\n",
    "        soup = BeautifulSoup(driver.page_source, 'html.parser')\n",
    "\n",
    "        # Thu thập tất cả đoạn văn bản (text) dựa trên class CSS cụ thể\n",
    "        # Class CSS \"t-a-center f-s-18 f-f-Lato-Black mb-0\" xác định các đoạn văn bản cần lấy.\n",
    "        list_text = [p.text for p in soup.find_all('p', class_='t-a-center f-s-18 f-f-Lato-Black mb-0')]\n",
    "\n",
    "        # Thu thập tất cả liên kết ảnh (image src) dựa trên class CSS cụ thể\n",
    "        # Class \"m-w-100\" xác định các hình ảnh cần lấy, bỏ qua hình ảnh đầu tiên (logo hoặc ảnh không cần thiết).\n",
    "        images = [img['src'] for img in soup.find_all('img', class_='m-w-100')][1:]\n",
    "\n",
    "        # Hàm chuyển đổi liên kết ảnh sang liên kết video\n",
    "        # Do cấu trúc URL video được xây dựng dựa trên liên kết ảnh, chỉ cần thay đổi \"thumbs\" thành \"videos\"\n",
    "        # và thay đổi phần mở rộng từ .png sang .mp4.\n",
    "        def get_vid_link_from_img_link(img_link):\n",
    "            return img_link.replace(\"thumbs\", \"videos\").replace(\".png\", \".mp4?autoplay=true\")\n",
    "\n",
    "        # Tạo danh sách các liên kết video từ danh sách ảnh\n",
    "        videos = [get_vid_link_from_img_link(img) for img in images]\n",
    "\n",
    "        # Ghép các đoạn văn bản và liên kết video thành các cặp (tuple)\n",
    "        # Sử dụng zip để kết hợp danh sách text và videos.\n",
    "        text_video = list(zip(list_text, videos))\n",
    "        \n",
    "        # Thêm dữ liệu từ trang hiện tại vào danh sách tổng\n",
    "        all_text_video.extend(text_video)\n",
    "\n",
    "        # Tìm nút to_click_button để chuyển sang trang tiếp theo\n",
    "        try:\n",
    "            # Tìm tất cả các nút có class chứa 'btn' 'mx-1' 'btn-sm'\n",
    "            buttons = driver.find_elements(By.CSS_SELECTOR, 'button[class*=\"btn\"][class*=\"mx-1\"][class*=\"btn-sm\"]')\n",
    "            # Tìm chỉ số của nút có class chứa 'btn-info'\n",
    "            for i, button in enumerate(buttons):\n",
    "                if 'btn-info' in button.get_attribute('class'):\n",
    "                    break\n",
    "            # Lấy nút tiếp theo để chuyển trang\n",
    "            to_click_button = buttons[i + 1]\n",
    "            # Nhấp vào nút để chuyển trang\n",
    "            to_click_button.click()\n",
    "            # Chờ cho trang tiếp theo tải xong trước khi tiếp tục\n",
    "            wait.until(EC.staleness_of(to_click_button))\n",
    "        except:\n",
    "            # Nếu không tìm thấy nút hoặc gặp lỗi, thoát khỏi vòng lặp\n",
    "            print(\"Không còn trang nào để tiếp tục.\")\n",
    "            break\n",
    "\n",
    "finally:\n",
    "    # Đảm bảo đóng trình duyệt ngay cả khi xảy ra lỗi\n",
    "    driver.quit()\n",
    "\n",
    "# In ra 5 cặp text-video đầu tiên để kiểm tra kết quả\n",
    "print(all_text_video[:5])\n",
    "\n",
    "# Nếu mà macOS không cho mở chromedriver thì\n",
    "# xem cái này https://discussions.apple.com/thread/250425993?sortBy=rank"
   ]
  },
  {
   "cell_type": "code",
   "execution_count": 2,
   "metadata": {},
   "outputs": [],
   "source": [
    "# Export dữ liệu thu thập được ra file CSV\n",
    "import csv\n",
    "\n",
    "# Đường dẫn đến file CSV để lưu trữ dữ liệu\n",
    "csv_file_path = '../data/raw/text_video_data.csv'\n",
    "\n",
    "# Mở file CSV để ghi dữ liệu\n",
    "with open(csv_file_path, mode='w', newline='') as file:\n",
    "    writer = csv.writer(file)\n",
    "    # Ghi tiêu đề cho file CSV\n",
    "    writer.writerow(['Text', 'Video'])\n",
    "    # Ghi dữ liệu từ danh sách all_text_video vào file CSV\n",
    "    writer.writerows(all_text_video)"
   ]
  },
  {
   "cell_type": "code",
   "execution_count": 3,
   "metadata": {},
   "outputs": [
    {
     "name": "stdout",
     "output_type": "stream",
     "text": [
      "       Text                             Video\n",
      "0   địa chỉ  /videos/D0001B.mp4?autoplay=true\n",
      "1   địa chỉ  /videos/D0001N.mp4?autoplay=true\n",
      "2   địa chỉ  /videos/D0001T.mp4?autoplay=true\n",
      "3      tỉnh   /videos/D0002.mp4?autoplay=true\n",
      "4  tiếp tân   /videos/D0003.mp4?autoplay=true\n",
      "       Text                                          Video URL\n",
      "0   địa chỉ  https://qipedc.moet.gov.vn/videos/D0001B.mp4?a...\n",
      "1   địa chỉ  https://qipedc.moet.gov.vn/videos/D0001N.mp4?a...\n",
      "2   địa chỉ  https://qipedc.moet.gov.vn/videos/D0001T.mp4?a...\n",
      "3      tỉnh  https://qipedc.moet.gov.vn/videos/D0002.mp4?au...\n",
      "4  tiếp tân  https://qipedc.moet.gov.vn/videos/D0003.mp4?au...\n"
     ]
    }
   ],
   "source": [
    "# Đọc dữ liệu từ file CSV để kiểm tra\n",
    "import pandas as pd\n",
    "\n",
    "# Đọc dữ liệu từ file CSV\n",
    "csv_file_path = '../data/raw/text_video_data.csv'\n",
    "df = pd.read_csv(csv_file_path)\n",
    "\n",
    "# In ra 5 dòng đầu tiên của DataFrame\n",
    "print(df.head())\n",
    "\n",
    "# Đổi tên cột Video thành Video URL và nối thêm phần url vào mỗi giá trị trong cột Video URL\n",
    "df.rename(columns={'Video': 'Video URL'}, inplace=True)\n",
    "df['Video URL'] = 'https://qipedc.moet.gov.vn' + df['Video URL']\n",
    "\n",
    "# In ra 5 dòng đầu tiên của DataFrame sau khi thay đổi\n",
    "print(df.head())"
   ]
  },
  {
   "cell_type": "code",
   "execution_count": 4,
   "metadata": {},
   "outputs": [
    {
     "name": "stdout",
     "output_type": "stream",
     "text": [
      "       Text                                          Video URL Region\n",
      "0   địa chỉ  https://qipedc.moet.gov.vn/videos/D0001B.mp4?a...      B\n",
      "1   địa chỉ  https://qipedc.moet.gov.vn/videos/D0001N.mp4?a...      N\n",
      "2   địa chỉ  https://qipedc.moet.gov.vn/videos/D0001T.mp4?a...      T\n",
      "3      tỉnh  https://qipedc.moet.gov.vn/videos/D0002.mp4?au...   None\n",
      "4  tiếp tân  https://qipedc.moet.gov.vn/videos/D0003.mp4?au...   None\n"
     ]
    }
   ],
   "source": [
    "def region_from_video_url(video_url):\n",
    "    \"\"\"\n",
    "    Hàm trích xuất khu vực từ URL video.\n",
    "    Ví dụ: Video URL: https://qipedc.moet.gov.vn/videos/D0001T.mp4?a có chữ T trước\n",
    "    .mp4 thì khu vực là 'T'.\n",
    "    Video URL: https://qipedc.moet.gov.vn/videos/D0002.mp4?au không có chữ gì trước\n",
    "    .mp4 thì khu vực là None, nghĩa là không xác định.\n",
    "    Có 3 khu vực có thể có là 'B', 'T', 'N'.\n",
    "    \"\"\"\n",
    "    \n",
    "    # Tách câu bởi dấu \".\" cuối cùng\n",
    "    parts = video_url.split('.')\n",
    "    \n",
    "    # Lấy phần kế cuối\n",
    "    last_part = parts[-2]\n",
    "    \n",
    "    # Nếu kí tự cuối của phần kế cuối thuộc ['B', 'T', 'N'] thì trả về kí tự đó\n",
    "    if last_part[-1] in ['B', 'T', 'N']:\n",
    "        return last_part[-1]\n",
    "    else:\n",
    "        return None\n",
    "\n",
    "# Thêm cột Region vào DataFrame từ cột Video URL\n",
    "df['Region'] = df['Video URL'].apply(region_from_video_url)\n",
    "\n",
    "# In ra 5 dòng đầu tiên của DataFrame sau khi thêm cột Region\n",
    "print(df.head())"
   ]
  },
  {
   "cell_type": "code",
   "execution_count": 5,
   "metadata": {},
   "outputs": [
    {
     "name": "stdout",
     "output_type": "stream",
     "text": [
      "       Text                                          Video URL Region  \\\n",
      "0   địa chỉ  https://qipedc.moet.gov.vn/videos/D0001B.mp4?a...      B   \n",
      "1   địa chỉ  https://qipedc.moet.gov.vn/videos/D0001N.mp4?a...      N   \n",
      "2   địa chỉ  https://qipedc.moet.gov.vn/videos/D0001T.mp4?a...      T   \n",
      "3      tỉnh  https://qipedc.moet.gov.vn/videos/D0002.mp4?au...   None   \n",
      "4  tiếp tân  https://qipedc.moet.gov.vn/videos/D0003.mp4?au...   None   \n",
      "\n",
      "      Label  \n",
      "0  địa_chỉB  \n",
      "1  địa_chỉN  \n",
      "2  địa_chỉT  \n",
      "3      tỉnh  \n",
      "4  tiếp_tân  \n"
     ]
    }
   ],
   "source": [
    "# Tạo thêm một cột Label là cột Text thay khoảng trắng bằng _ rồi + với cột Region\n",
    "df['Label'] = df['Text'].str.replace(' ', '_') + df['Region'].fillna('')\n",
    "\n",
    "\n",
    "# In ra 5 dòng đầu tiên của DataFrame sau khi thêm cột Label\n",
    "print(df.head())"
   ]
  },
  {
   "cell_type": "code",
   "execution_count": 6,
   "metadata": {},
   "outputs": [],
   "source": [
    "# Sort lại DataFrame theo cột Text\n",
    "df.sort_values('Text', inplace=True)"
   ]
  },
  {
   "cell_type": "code",
   "execution_count": 7,
   "metadata": {},
   "outputs": [],
   "source": [
    "# Lưu dataframe vào lại file .csv cũ\n",
    "df.to_csv(csv_file_path, index=False)"
   ]
  }
 ],
 "metadata": {
  "kernelspec": {
   "display_name": "aio_signlanguage-env",
   "language": "python",
   "name": "python3"
  },
  "language_info": {
   "codemirror_mode": {
    "name": "ipython",
    "version": 3
   },
   "file_extension": ".py",
   "mimetype": "text/x-python",
   "name": "python",
   "nbconvert_exporter": "python",
   "pygments_lexer": "ipython3",
   "version": "3.9.21"
  }
 },
 "nbformat": 4,
 "nbformat_minor": 2
}
